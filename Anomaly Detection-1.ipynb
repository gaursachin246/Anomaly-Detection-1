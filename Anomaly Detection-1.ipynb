{
 "cells": [
  {
   "cell_type": "code",
   "execution_count": 1,
   "id": "565e2b03-6ee7-4462-8b82-36b50a2f72f6",
   "metadata": {},
   "outputs": [],
   "source": [
    "## Q1. What is anomaly detection and what is its purpose?\n",
    "\n",
    "## Anomaly detection is the process of identifying data points, patterns, or behaviors that deviate significantly from the norm or expected values. Its purpose is to:\n",
    "\n",
    "#1. Identify unusual patterns: Detect rare or unusual events, such as fraudulent transactions or network intrusions.\n",
    "#2. Prevent losses: Identify potential risks or threats, allowing for proactive measures to prevent losses or damage.\n",
    "#3. Improve efficiency: Detect anomalies in processes or systems, enabling optimization and improvement.\n",
    "#4. Enhance security: Identify potential security threats, such as malware or unauthorized access.\n",
    "#5. Support decision-making: Provide insights into unusual trends or patterns, informing business decisions.\n"
   ]
  },
  {
   "cell_type": "code",
   "execution_count": 3,
   "id": "508a29c0-8543-440a-93fb-e86f111f97dc",
   "metadata": {},
   "outputs": [],
   "source": [
    "#Q2. What are the key challenges in anomaly detection?\n",
    "\n",
    "#he key challenges in anomaly detection include:\n",
    "\n",
    "#1. Defining normal behavior: Establishing a baseline for normal behavior can be difficult, especially in complex systems.\n",
    "#2. High false positive rates: Anomaly detection models can generate many false alarms, leading to unnecessary investigations.\n",
    "#3. Low true positive rates: Failing to detect actual anomalies can lead to missed opportunities or undetected threats.\n",
    "#4. Data quality issues: Noisy, incomplete, or biased data can negatively impact anomaly detection accuracy.\n",
    "#5. Scalability: Anomaly detection must handle large datasets and high-speed data streams.\n",
    "#6. Real-time detection: Detecting anomalies in real-time is crucial for timely action.\n",
    "#7. Interpretability: Understanding why an anomaly was detected is essential for effective decision-making.\n",
    "#8. Evolving patterns: Anomaly detection must adapt to changing patterns and behaviors over time.\n",
    "#. Class imbalance: Anomalies are often rare, making it challenging to train effective models.\n",
    "#10. Explainability: Providing insights into detected anomalies is critical for trust and actionability.\n",
    "#"
   ]
  },
  {
   "cell_type": "code",
   "execution_count": 4,
   "id": "0a4a229c-6558-4893-b199-db34b769f0f3",
   "metadata": {},
   "outputs": [],
   "source": [
    "#Q3. How does unsupervised anomaly detection differ from supervised anomaly detection?\n",
    "\n",
    "#Unsupervised Anomaly Detection\n",
    "\n",
    "#1. No labeled data: No prior knowledge of anomalies or normal behavior.\n",
    "#2. No training data: No data is labeled as \"anomaly\" or \"normal\".\n",
    "#3. Identifies patterns: Finds unusual patterns or outliers in the data.\n",
    "#4. Clustering or density-based: Uses techniques like k-means, DBSCAN, or Local Outlier Factor (LOF).\n",
    "#5. Detects unknown anomalies: Finds new, unseen anomalies.\n",
    "\n",
    "#Supervised Anomaly Detection\n",
    "\n",
    "#1. Labeled data: Data is labeled as \"anomaly\" or \"normal\".\n",
    "#2. Training data: Model is trained on labeled data.\n",
    "#3. Classifies new data: Classifies new data points as \"anomaly\" or \"normal\".\n",
    "#4. Uses classification algorithms: Techniques like logistic regression, decision trees, or SVM.\n",
    "#5. Detects known anomalies: Identifies anomalies similar to those in the training data.\n",
    "\n"
   ]
  },
  {
   "cell_type": "code",
   "execution_count": 5,
   "id": "362e558b-0dac-42d6-842d-091df71a1eda",
   "metadata": {},
   "outputs": [],
   "source": [
    "#Q7. What are the key parameters of the Isolation Forest algorithm?\n",
    "\n",
    "\n",
    "#The key parameters of the Isolation Forest algorithm are:\n",
    "\n",
    "#1. Number of Estimators (n_estimators): The number of decision trees in the forest.\n",
    "\n",
    "#2. Maximum Samples (max_samples): The number of samples to draw from the data to train each tree.\n",
    "\n",
    "#3. Contamination (contamination): The proportion of outliers in the data.\n",
    "\n",
    "#4. Random State (random_state): The seed for random number generation.\n",
    "\n",
    "#5. Bootstrap: Whether to use bootstrapping to sample the data for each tree.\n",
    "\n",
    "#6. Behaviour: Whether to return the anomaly scores or the binary labels.\n",
    "\n",
    "#7. N_jobs: The number of CPU cores to use for parallel processing.\n"
   ]
  },
  {
   "cell_type": "code",
   "execution_count": null,
   "id": "e6f24367-19a6-440a-8294-d853cf1d8258",
   "metadata": {},
   "outputs": [],
   "source": []
  }
 ],
 "metadata": {
  "kernelspec": {
   "display_name": "Python 3 (ipykernel)",
   "language": "python",
   "name": "python3"
  },
  "language_info": {
   "codemirror_mode": {
    "name": "ipython",
    "version": 3
   },
   "file_extension": ".py",
   "mimetype": "text/x-python",
   "name": "python",
   "nbconvert_exporter": "python",
   "pygments_lexer": "ipython3",
   "version": "3.10.8"
  }
 },
 "nbformat": 4,
 "nbformat_minor": 5
}
